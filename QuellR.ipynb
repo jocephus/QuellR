{
 "cells": [
  {
   "cell_type": "code",
   "execution_count": 10,
   "id": "89b1f4a4",
   "metadata": {},
   "outputs": [],
   "source": [
    "import requests\n",
    "import os\n",
    "import subprocess\n",
    "import re\n",
    "import glob\n",
    "import cv2\n",
    "import pathlib\n",
    "from unshortenit import UnshortenIt"
   ]
  },
  {
   "cell_type": "code",
   "execution_count": 11,
   "id": "881b6458",
   "metadata": {},
   "outputs": [
    {
     "name": "stdout",
     "output_type": "stream",
     "text": [
      "{'', 'cle.clinic', 'sinourl.tw', 'clickmeter.com', 'bo.st', 'postdispat.ch', 'uoft.me', 'url2.fr', 'red.ht', 'fn.gg', 'nyer.cm', 'gek.link', 'amrep.org', 'boile.rs', 't.libren.ms', 'wf0.xin', 'reconis.co', '9qr.de', 'supr.cl', '4.ly', 'crwd.fr', 'ourl.tw', 'bayareane.ws', '3.cn', 'linkshare.pro', 'smsng.us', 'lihi3.cc', 'vz.to', 'cmu.is', 'foxs.pt', 'zi.ma', '7news.link', 'supr.link', 'swtt.cc', 'xvirt.it', 'db.tt', 'utm.to', 'got.cr', 'lihi.cc', 'go.usa.gov', 'clc.am', 'hbaz.co', 'mklnd.com', 'hub.am', '1un.fr', 'whcs.law', 'hyp.ae', 'fbstw.link', 'ppt.cc', 'thrill.to', 'zlr.my', 'dtdg.co', 'opr.news', '2u.pw', 'synd.co', 'i-d.co', 'lihi1.me', 'amzn.to', 'l.prageru.com', 'rch.lt', 'toyota.us', 'ht.ly', 'lihi.biz', '3le.ru', 'rd.gt', '101.gg', 'ynews.page.link', 'fstrk.cc', 'blur.by', 'bookstw.link', 'lnkiy.in', 'lttr.ai', 'sumal.ly', 'acus.org', 'mcgam.es', 'dockr.ly', 'git.io', 'zpr.io', 'bc.vc', 'bose.life', 'soch.us', 'adbl.co', 'genie.co.kr', 'ww7.fr', 'asin.cc', 'galien.org', 'saf.li', 'aon.io', 'fevo.me', 'han.gl', 'tiny.ie', 'alturl.com', 'sptfy.com', 'kfrc.co', 'glo.li', 'to.pbs.org', 'migre.me', 'kham.tw', 'dibb.me', 'onion.com', 'sqex.to', 'lihivip.com', 'owy.mn', 'munbyn.biz', 'rpf.io', 'urls.im', 'abe.ma', 'm101.org', 'nvda.ws', 'hideout.cc', 'blizz.ly', 'goo.by', 'ppurl.io', 'acer.co', 'a.189.cn', 'kpmg.ch', 'link.ac', 'lmt.co', 'rly.pt', 'sou.nu', 'chn.ge', 'tiny.pl', 'dxc.to', 'asq.kr', 'econ.st', 'isw.pub', 'ocul.us', 'rtvote.com', 'hrbl.me', 'abc11.tv', 'usm.ag', 'swag.run', 'utn.pl', 't.ly', 'cmxl.gy', 'walk.sc', 'tgam.ca', 'b23.tv', 'yuk.nu', 'exitl.ag', 'lihi3.me', 'safl.it', 'purefla.sh', 'edin.ac', 'kkc.tech', 'urls.kr', 'u.fail', 'prdct.school', 'pens.pe', 'njersy.co', 'vvnt.co', 'ifix.gd', 'ourl.co', 'moovit.me', 'dainik-b.in', 'redtag.la', 'urla.ru', 'gph.to', 'chl.li', 'iiil.io', 'linkd.in', 'qptr.ru', 'github.co', 'do.co', 'westm.in', 'etsy.me', 'icks.ro', 'nxb.tw', 'optimize.ly', 'thn.news', 'ghkp.us', 'cart.mn', 'ukoeln.de', 'w.wiki', 'budurl.com', 'wa.link', 'ringcentr.al', 'crwd.in', 'herff.ly', 'intel.ly', 'volvocars.us', '1url.cz', 'baratun.de', 'weall.vote', 'fwme.eu', 'wun.io', 'l-i-nk.me', 'c11.kr', 'go.qb.by', 'interc.pt', 'petrobr.as', 'sbux.jp', 'discord.gg', 'lnk.do', 'zuo.in', 't.cn', 'ref.trade.re', 'wn.nr', 'simp.ly', 'mtw.so', 'stuf.in', 'xbx.lv', 'lat.ms', 'uni.cf', 'cnet.co', 'links2.me', 'apple.news', 'dd.ma', 'tdrive.li', 'dtsx.io', 'gr.pn', 'scr.bi', 'tiny.sg', 'fr.rog.gg', 'tibco.cm', 'ibf.tw', '2wsb.tv', 'careem.me', 'yugatech.ph', 'puri.na', 'on.louisvuitton.com', 'rdbl.co', 'xrds.ca', 'learn.to', 'adb.ug', 'blbrd.cm', 'deli.bz', 'haa.su', 'geti.in', 'pj.pizza', 'msft.it', 'mstr.cl', 'lmy.de', 'lihi.pro', 'nr.tn', 'bridge.dev', 'can.al', 'link.gy', 'lnk.bz', 'usanet.tv', 'amz.run', 'katzr.net', 'tdy.sg', 'dlvr.it', 'yourwish.es', 'michmed.org', 'split.to', 'al.st', 'b23.ru', 'ift.tt', 'zat.ink', 'rdcrss.org', 't1p.de', 'nyp.st', '1o2.ir', 'bzfd.it', 'go.mend.io', 'p.asia', 'fave.co', 'zurl.co', 'sina.lt', 'skyurl.cc', 'gh.io', 'ucla.in', 'chn.lk', 'enshom.link', 'xpr.li', '5du.pl', 'tgr.ph', 'at.vibe.com', 'atmilb.com', 'citi.asia', 'bytl.fr', 'hubs.li', 'wa.me', 'smtvj.com', 'glbe.co', 'yex.tt', 'bwnews.pr', 'flq.us', 'viaalto.me', 'nej.md', 'ab.co', 'myumi.ch', 'grhb.me', 'dw.com', 'xprt.re', 'preml.ge', 'coop.uk', 'spotify.link', 'xtra.li', 'ebay.to', 'twb.nz', 'st.news', 'cstu.io', 'nflx.it', 'ibit.ly', 'redaz.in', 'puext.in', 'hubs.ly', 'reurl.cc', 'cort.as', 'aet.na', 'on.nypl.org', 'ukf.me', 'ta.co', 'lnkiy.com', 'squ.re', 'nchcnh.info', 'thein.fo', 'whr.tn', 'nbcbay.com', 'qr.ae', 'hi.kktv.to', 'go.sony.tw', 'desert.sn', 'ilang.in', 'mojo.ly', 'skimmth.is', 'walkjc.org', 'lbtw.tw', 'bcove.video', 'llo.to', 'urlbun.ch', 'iplwin.us', 'amex.co', 'tinylink.net', 'dwz.tax', 'rozhl.as', 'ntap.com', 'rvbd.ly', 'shp.ee', 'sndn.link', 'prgress.co', 'maac.io', 'got.to', 'lihi3.com', 'urls.fr', 'goolink.cc', '1ea.ir', 'abre.ai', 'alleywat.ch', 'cbsloc.al', 'agrd.io', 'mney.co', 'on9news.tv', 'apple.co', 'y.ahoo.it', 's.g123.jp', 'pros.is', 'go.shr.lc', 'bhpho.to', 'gbod.org', 'oe.cd', 'vodafone.uk', 'lft.to', 'ix.sk', 'lzd.co', 'chip.tl', 'es.pn', 'shrtco.de', 'man.ac.uk', 'cut.lu', 'shar.as', 'utraker.com', 'livemu.sc', 'tinyurl.com', 'prf.hn', 'fb.watch', 'aka.ms', 'fam.ag', 'bp.cool', '9splay.store', 'ibb.co', 'binged.it', 'myppt.cc', 'i.coscup.org', 'nokia.ly', 'abc7.la', 'mnge.it', 'redir.ec', 'smonty.co', '0a.sk', 'nq.st', 'smlk.es', 'nie.mn', 'usat.ly', 'xrl.us', '365edu.io', 'ru.rog.gg', 'amzn.pw', 'm.me', 'undrarmr.co', 'wenk.io', 'acortar.link', 'cs.co', 'ay.gy', 'discvr.co', 'urlgeni.us', 'wbur.fm', 'alpha.camp', 'l9k.net', 'cockroa.ch', 'nav.cx', 'thght.works', 'a.co', 'foodtv.com', 'syb.la', 'orlo.uk', 'waa.ai', 'zovpart.com', 'lihipro.com', 'offerup.co', 'ofcour.se', 'sdpbne.ws', 'sokrati.ru', 't.iotex.me', 'urly.co', 'ovh.to', 'pldthome.info', 'kbank.co', 'vercel.link', 'bst.bz', 'txul.cn', 'wcha.it', 'obank.tw', 'tlil.nl', 'momo.dm', '12ne.ws', 'biibly.com', 'renew.ge', 'kas.pr', 'link.infini.fr', 'shorturl.asia', 'ulvis.net', 'tw.sv', 'rlu.ru', 'browser.to', 'dems.me', 'amba.to', '7ny.tv', 'capital.one', 'tidd.ly', 'tokopedia.link', 'unixgaming.dev', 'asus.click', 'blstg.news', 'l8r.it', 'oran.ge', 'btwrdn.com', 'mcys.co', 'waad.co', 'zws.im', 'iplogger.ru', 'fff.re', 'whatel.se', 'nym.ag', 'dy.fi', 'u6v.cn', 'mork.ro', 'skroc.pl', 'jkf.lv', 't2m.io', 'w.tt', 'philips.to', 'abr.ai', 'benqurl.biz', 'cathaybk.tw', 'on.ny.gov', 'mzl.la', 'dssurl.com', 'tek.io', 'wartsi.ly', 'zynga.my', 'amp.gs', 'mcd.to', 'snip.ly', 'aarp.info', 'ugp.io', 'urb.tf', 'sbsne.ws', 'pewrsr.ch', 'tbb.tw', 'linkjust.com', 'rvwd.co', 'homes.jp', 'go.id.me', 'gl.am', '985.so', 'go.intel-academy.com', 'cin.ci', 'gofund.me', '2fear.com', 'tny.so', 'parg.co', 'a0.fr', 'travl.rs', 'xfl.ag', 'ibm.biz', 'minify.link', 'tsta.rs', 'qnap.to', 'lihi.one', 'pxu.co', '2no.co', 'dlsh.it', 'zecz.ec', 'shorturl.at', 'htn.to', 'cutt.ly', 'w.idg.de', 'zeni.ws', 'social.ora.cl', 'nbcchi.com', 'read.bi', 'redsto.ne', 'go.ly', 'on.mktw.net', '6.ly', '2u.lc', 'ua.rog.gg', 'casio.link', 'mo.ma', 'zuplo.link', 'mybmw.tw', 'rev.cm', 'sforce.co', 'lemde.fr', 'yun.ir', 'dmdi.pl', 'crackm.ag', 'ryml.me', 'shar.es', 'rebrand.ly', '420.bio', 'yupptv.la', 'cybr.rocks', 'sie.ag', 'xgam.es', 'bg4.me', 'clicky.me', 's.sh-topia.com', 'maper.info', 'plu.sh', 'nswroads.work', 'okok.fr', 'xyvid.tv', 'selnd.com', 'pew.org', 'btm.li', 'fandom.link', 'invent.ge', 'q.gs', 'twm5g.co', 'seiu.co', 'g.page', 'go.lu-h.de', 'clck.ru', 'safelinking.net', 'utfg.sk', 'yji.tw', 'wee.so', 'sail.to', '0rz.tw', 'jdem.cz', 'ntnx.tw', 'upmchp.us', 'ity.im', 'uafly.co', 'omni.ag', 'ed.gr', 'imdb.to', 'dcps.co', 'di.sn', 'by2.io', 'ic9.in', 'godrk.de', 'dvrv.ai', 'comca.st', 'mrte.ch', 'l.linklyhq.com', 'urlify.cn', 'vivo.tl', 'ul3.ir', 'atmlb.com', 'vbly.us', 'ntn.so', 'mmz.li', 'iqiyi.cn', 'lnv.gy', 'suo.fyi', 'eepurl.com', 'thatis.me', 'linkye.net', 'nbcnews.to', 'fandan.co', 'cfl.re', 'adobe.ly', 'qrs.ly', 'urlday.cc', 'onepl.us', 'rvtv.io', 'oal.lu', '8fig.me', 'urlr.me', 'merky.de', 'brook.gs', 'trbna.co', 'pod.fo', 'ms.spr.ly', 'hf.co', 'faras.link', 'osdb.link', 'goo.gl', 'dkng.co', 'indy.st', 'nkbp.jp', '1kh.de', 'meck.co', 'edu.nl', 'rebelne.ws', 'bca.id', 'histori.ca', 'mnot.es', 'casim.ir', 'jb.gg', 'so.arte', 'lihi1.cc', 'urlz.fr', 'skrat.it', 'credicard.biz', 'jcp.is', 'spgrp.sg', '6g6.eu', 'abc13.co', 'cnfl.io', 'glmr.co', 'hulu.tv', 'kko.to', 'linkr.in', 'rnm.me', 'fetnet.tw', 'dai.ly', 'kkstre.am', 'thesne.ws', 'm6z.cn', 'lihi1.com', '88nb.cc', 't-bi.link', 'entm.ag', 'shorturl.ae', 'etp.tw', 'stspg.io', 'g.co', 'gbpg.net', 'nyti.ms', 'ntuc.co', 'tsbk.tw', 'anch.co', 'redd.it', 'glblctzn.me', 'illin.is', 'bl1.ir', 'coupa.ng', 'siteco.re', 'b.link', 'svy.mk', 'cmy.tw', 'uk.rog.gg', '2.ht', 'tw.rog.gg', 'wef.ch', 'fooji.info', 'neti.cc', '71a.xyz', 'f5yo.com', 'yhoo.it', 'swiy.co', 'biggo.tw', 'conta.cc', 'uofr.us', 'y2u.be', 'we.co', 'wellc.me', 'your.ls', 'zeep.ly', 'cup.org', 'ind.pn', 'lstu.fr', 'yip.su', 'sho.pe', 'siriusxm.us', 'lyksoomu.com', 'cbj.co', 'onelink.to', 'goo.click', 'reut.rs', '301.link', 'tnsne.ws', 'mylt.tv', 'shln.me', 'st8.fm', 'pin.it', 'vn.rog.gg', 'sttu.info', 'tiny.ee', 'tl.gd', 'sovrn.co', 'etoro.tw', 'wb.md', 'gandi.link', 'naver.me', 'zuki.ie', 'goolnk.com', 'exe.io', 'da.gd', 'sn.cf', 'boa.la', 'o.vg', 'infy.com', 'capitalfm.co', 'n.pr', 'url365.club', 'go.ustwo.games', 'firsturl.de', 'livestre.am', 'm1p.fr', 'psce.pw', 'dis.tl', 'alphab.gr', 'gmj.tw', 'hyperurl.co', 'iln.io', 'disq.us', 'x.co', 'lihi2.me', 'blck.by', 'tnne.ws', 'tinu.be', 'reline.cc', 'wbby.co', 'mayocl.in', 'seolrea.net', 'urlbunch.com', 'thd.co', 'opr.as', 'rog.gg', 'tny.im', 'g.asia', 'instagr.am', 'xerox.bz', 'bsun.md', 'huffp.st', 'c87.to', 'cirk.me', 'vxn.link', 'sejr.nl', 'zdsk.co', 'anyimage.io', 'iplogger.info', 'refini.tv', 'fa.by', 'go.intigriti.com', 'mub.me', '2link.cc', 'urt.io', '4sq.com', '98pro.cc', 'pag.la', 'itsh.bo', 'smart.link', 'ourl.in', 'pgrs.in', 'b-gat.es', 'redir.is', 'f1.com', 'efshop.tw', 'my.mtr.cool', 'kortlink.dk', 'davidbombal.wiki', 'captl1.co', '89q.sk', 'pdxint.at', 'lnk.sk', 'hpe.to', 'ubm.io', 'seagate.media', 'splk.it', 'firsturl.net', 'feitopara.vc', 'yelp.to', 'psee.io', 'cnn.it', 'trt.sh', 'bloom.bg', 'accntu.re', 'gq.mn', 'on.tcs.com', 'zaya.io', 'pepsi.co', 'ilnk.io', 'mstr.cd', 'bmai.cc', 'propub.li', 'short.gy', 'scrb.ly', 'txdl.top', 's.coop', 'nnnna.store', 'urbn.is', 'surl.li', 'starz.tv', 'go.osu.edu', 'p.dw.com', 'wp.me', 'htgb.co', '52.nu', 'bcsite.io', 'kck.st', 'cmon.co', 'oxelt.gl', 'to.ly', 'trymongodb.com', 'gen.cat', '92url.com', 'derpy.me', 'wwf.to', 'tim.com.vc', 'ssur.cc', 'vzturl.com', 'indeedhi.re', '9mp.com', 'alnk.to', 'ellemag.co', 'latingram.my', 'tvote.org', 'vonq.io', 'ucbexed.org', 'rb.gy', 'gomomento.co', 'wahoowa.net', 'go.hny.co', 'goo-gl.me', 'loom.ly', 'dk.rog.gg', 'kf.org', 'pipr.es', 'shorl.com', 'i.mtr.cool', 'low.es', 's3vip.tw', 'dell.to', 'tpc.io', 'vtns.io', 'lihi2.com', 'krazy.la', 'riot.com', 'tmz.me', 'sgq.io', 'sinyi.in', 'vntyfr.com', 'ezstat.ru', 'fal.cn', 'ubr.to', 'rushgiving.com', 'zipurl.fr', 'alias.live', 'vur.me', 'circle.ci', 'huff.to', 'warp.plus', 'flip.it', 'lurl.cc', 'go.cwtv.com', 'deloi.tt', 'ziadi.co', 'vk.sv', 'trib.in', 'cleg.al', 'spr.ly', 'clr.tax', 'dub.sh', 'qrco.de', 'mrx.cl', 'go.lamotte.fr', 'adf.ly', 'nxdr.co', 'smu.gs', 'shorte.st', 'cplink.co', 'wfts.tv', 'ana.ms', 'dv.gd', 'up.to', 'atres.red', 'tnvge.co', 'gym.sh', 'eonli.ne', 'viraln.co', 'go.rebel.pl', 't.tl', 'hubs.la', 'youtu.be', 'gldr.co', 'monster.cat', 'go.skilllabs.io', 'vult.re', '9k.gg', 'ter.li', 'on.nyc.gov', 'lonerwolf.co', 'go.dbs.com', 'sdut.us', 'nwsdy.li', 'dld.bz', 'pwc.to', 'gigaz.in', 'found.ee', 'cli.re', 'p4k.in', 'ludia.gg', '8.ly', 'axios.link', 'blap.net', 'on.ft.com', 'garyvee.com', 'bbc.in', 'cut.pe', 'chilp.it', 'v.gd', 'acer.link', 'boston25.com', 'k-p.li', 'fltr.ai', 'lam.bo', 'cbt.gg', 'politi.co', 'snd.sc', 'lihi2.cc', 'grnh.se', 'snyk.co', 'aptg.tw', 'fifa.fans', 'eqix.it', 'lih.kg', 'pdora.co', 'zzb.bz', 'meetu.ps', 'cb.com', 'g-web.in', 'tiny.cc', 'axoni.us', 'ept.ms', 'rsh.md', 'adfoc.us', 'cutt.us', 'escape.to', 'me2.kr', 'shorten.asia', 'vd55.com', 'vo.la', 'cna.asia', 'wmojo.com', 'everri.ch', 'offs.ec', 'spcne.ws', 'ja.ma', 'gizmo.do', 'regmovi.es', 'lnky.jp', 'sprtsnt.ca', 'dy.si', 'wwp.news', 'tonyr.co', 'play.st', 'notlong.com', 'iplogger.co', 'tibco.co', 'netm.ag', 'tanks.ly', 'ford.to', 'sealed.in', 'offf.to', 'eslite.me', 'bigcc.cc', 'rizy.ir', 'iherb.co', 'emirat.es', 'spr.tn', 'us.rog.gg', 'fvrr.co', 'dkng.me', 'spigen.co', 'pe.ga', 'fandw.me', 'ui8.ru', 'kli.cx', 'htl.li', 'stanford.io', 'cisn.co', 'httpslink.com', 'kp.org', 'tpmr.com', 'urluno.com', 'azc.cc', 'nnn.is', 'outschooler.me', 'sincere.ly', 'lc.cx', 'solsn.se', 'r.zecz.ec', '1shop.io', 'fce.gg', 'maga.lu', 'gcc.gl', 'cl.ly', 'tt.vg', 'qr.net', 'mck.co', 'popm.ch', 'rbl.ms', 's.wikicharlie.cl', 'py.md', 'rol.st', 'mysp.ac', 'mz.cm', 'es.rog.gg', 'mypoya.com', '9nl.com', 'tcrn.ch', 'a360.co', 'clc.to', 'cadill.ac', 's04.de', 'owl.li', 's.id', 'wo.ws', 'j.mp', 'xfru.it', 'cnb.cx', 'tktwb.tw', 'abc7ne.ws', 'grm.my', 'ela.st', 'rem.ax', 'vypij.bar', 'smbz.us', 'viaja.am', 'urlis.net', 'kg.games', '7oi.de', 'zlra.co', 'amays.im', 'fox.tv', 'gtnr.it', 'her.is', 'apne.ws', 'msi.gm', 'hbom.ax', 'minilink.io', 'j.gs', 'on.fb.me', 'syw.co', 'arkinv.st', 'kbit.co', 'sbux.co', 'csmo.us', 'clvr.li', 'u2s.in', 'swa.is', 'rwl.io', 'tabsoft.co', '2doc.net', 'bravo.ly', 'aol.it', 'small.cat', 'smsng.news', 'url.cy', 'cvent.me', 'gdurl.com', 's.mj.run', 'on.wsj.com', 'pro.ps', 'swoo.sh', 'cvs.co', 'esl.gg', 'nwppr.co', 'joo.gl', 'seedsta.rs', 'lru.jp', 'at.tumblr.com', 'tmblr.co', 'bougn.at', 'gtne.ws', 'seph.me', 'thinfi.com', 'zurins.uk', 'lsdl.es', 'nydn.us', 'pzdls.co', 'onforb.es', 'u.nu', 'djex.co', 'gi.lt', 'ul.to', 'twtr.to', 'asics.tv', 'oc.cm', 'avlne.ws', 'insig.ht', 'kkne.ws', 'hnsl.mn', 'way.to', 'zez.kr', 'u.to', 'esqr.co', 'socx.in', 'voicetu.be', 'abc.li', 'crdrv.co', 'ntck.co', 'vrnda.us', 'zdrive.li', 'gbte.tech', 'inx.lv', 'ku.ag', '2.ly', '2ni.in', 'gtly.to', 'abcn.ws', 'fnb.lc', 'buff.ly', 'thr.cm', 'on.bcg.com', 'spoti.fi', 'frdm.mobi', 'xy2.eu', 'dl.gl', 'hashi.co', 'wrctr.co', 'nbzp.cz', 'pt.rog.gg', 'adaymag.co', 'getf.ly', 'huma.na', 'peoplem.ag', 'amzn.com', 'cnnmon.ie', 'irng.ca', 'fav.me', 'tg.pe', 'lt27.de', 'b2n.ir', 'avlr.co', 'bung.ie', 's.accupass.com', 'elle.re', 'ctbc.tw', 'bom.so', 'urlzs.com', 'forms.gle', 'url.ie', 'bitly.com', 's.ul.com', 'tatung.site', 'llk.dk', 'intuit.me', 'linkbun.com', 'bit.ly', 'oxf.am', 'wrem.it', 'bl.ink', 'amc.film', 'avydn.co', 'clvr.rocks', 't-mo.co', 'embt.co', '2.gp', 'fmurl.cc', 'ihr.fm', 'linko.page', 'slidesha.re', 'gov.tw', 'hyperx.gg', 'rdre.me', 'thedo.do', '707.su', 'canon.us', '1u.fi', 'cdl.booksy.com', 'sched.co', 'n.opn.tl', 'fumacrom.com', 'prn.to', 'cultm.ac', 'w5n.co', '7.ly', 'fxn.ws', 'xxl.frl', 'laco.st', 'anon.to', 'se.rog.gg', 'win.gs', 'unipapa.co', 'shorturl.gg', 'kings.tn', 'url.cn', 'wooo.tw', 'esun.co', 'oyn.at', 'act.gp', 'bitly.is', 'wryh.at', 'kuku.lu', 'trackurl.link', 'flomuz.io', '2pl.us', 'pesc.pw', 'href.li', 'posh.mk', 'ftnt.net', 'storycor.ps', 'go.shell.com', 'zoho.to', '2nu.gs', 'adol.us', 'cr.ma', 'tmsnrt.rs', 'app.philz.us', 'yoox.ly', '0.gp', 'iplogger.org', 'zurb.us', 'arc.ht', 'zcu.io', 'many.at', 'lmg.gg', 'dmreg.co', 'wndrfl.co', 'cnvrge.co', 'nmrk.re', 'is.gd', 'pojonews.co', 'go.nowth.is', 'tnw.to', 'urly.fi', 'sy.to', 'brief.ly', 'bnds.in', 'ga.co', 'vai.la', 'zxc.li', 'kask.us', 'smsb.co', 'link.tubi.tv', 'hill.cm', 'unr.ly', 'xfin.tv', 'yubi.co', 'cc.cc', 'whoel.se', '4.gp', 'ow.ly', 'ptix.co', 'il.rog.gg', 'tiny.one', 'br4.in', '69run.fun', 'nbcct.co', 'topt.al', '0987.win', 'unc.live', 'pnsne.ws', 'weare.rs', 'ur3.us', 'lin.ee', 'geni.us', 'gfuel.ly', 'r-7.co', 'ai6.net', 'poie.ma', 'glo.bo', 'lego.build', 'bcene.ws', 'go.vic.gov.au', 'luminary.link', 'hi.sat.cool', 'sh.st', 'risu.io', 'insd.io', 'nbc4dc.com', 'atm.tk', 'ibm.co', 'warby.me', 'lprk.co', 'mm.rog.gg', 'n9.cl', '6.gp', 'adweek.it', 'sht.moe', 'rip.city', 'goo.su', 'taiwangov.com', 'sfcne.ws', 'smarturl.it', 'cbsn.ws', 'zywv.us', 'lativ.tw', 'nature.ly', 'bbva.info', 'xurl.es', 'zopen.to', 'wjcf.co', 's.uniqlo.com', 'wrd.cm', 'zipr.ir', '3.ly', '5.gp', 'letsharu.cc', 'b.mw', 'on.bp.com', 'nkf.re', 'vurl.com', 'hicider.com', 'can.si', 'tinyarro.ws', 'goo.gle', 'wu.to', 'twou.co', 'liip.to', 'relink.asia', 'gclnk.com', 'lnkd.in', 'sfca.re', 'gowat.ch', 'lihi.tv', 'go.edh.tw', 'readhacker.news', 'sinyi.biz', 'cr8.lv', 'gaw.kr', 'mbapp.io', 'faturl.com', 'lnnk.in', 'www.shrunken.com', 'gosm.link', 'tbrd.co', 'lohud.us', 'name.ly', 'cathaysec.tw', 'klck.me', 'ume.la', 'd-sh.io', 'nnna.ru', 'p1r.es', '53eig.ht', 'sc.org', 'shorturl.com', 'jsparty.fm', 'bstk.me', 'pops.ci', 'cookcenter.info', 'wi.se', 'tny.cz', '1drv.ms', 'shiny.link', 'forr.com', 'skr.sk', 't.co', 'wkf.ms', 'sfty.io', 'wapo.st', 'vi.sa', 'smashed.by', 'ouo.press', 'fb.me', 'yal.su', 'jpeg.ly', 'booki.ng', 'mng.bz', 'zzu.info', 'stmodel.com', 'hi.switchy.io', 'sdu.sk', 'sbird.co', 'wa.sv', 'zlw.re', 'ctfl.io', 'bigfi.sh', 'cyb.ec', 'roge.rs', 'g02.ir', 'snip.link', 'tinyurl.hu', 't.me', 'on.nba.com', 'iplogger.com', 'umlib.us', 'kl.ik.my', 'bzh.me', 'rethinktw.cc', 'iea.li', 'flx.to', 'pck.tv', 'xqss.org', 'itvty.com', 'x.gd', 'andauth.co', 'ti.me', 'hp.care', 'tapny.su', 'wbze.de', 'go.tinder.com', 'ipgrabber.ru', 'inlnk.ru', 'troy.hn', 'alli.pub', 'epochtim.es', 'stan.md', 'rotf.lol', 'shope.ee', 'me.sv', 'e.lilly', 'okt.to', 'vogue.cm', 'go.aws', 'e.vg', 'ko.gl', 'rzr.to', 'pa.ag', 'wwhts.com', 'kutt.it', 'icit.fr', 'mcafee.ly', 'go.nasa.gov', 'rfr.bz', 'sf3c.tw', 'chts.tw', 'bonap.it', 'whi.ch', 'chng.it', 'soc.cr', 'ubnt.link', 'iii.im', 'metamark.net', 'yadi.sk', 'xor.tw', 'dopice.sk', 'caro.sl', 'wpbeg.in', '02faq.com', 'linkopener.co', '49rs.co', 'rsc.li', 'sourl.cn', 'replug.link', 'sck.io', 'zd.net', 'ritea.id', 'zurl.ws', 'ul.rs', 'ii1.su', 'zurl.ir', 'dky.bz', '17mimei.club', 'dpo.st', 'zev.mobi', 'myurls.ca', 'referer.us', 'bddy.me', 'beth.games', 'ampr.gs', 'onx.la', 'cute2w.in', 'bre.is', 'on.natgeo.com', 'tcat.tc', 'dailym.ai', 'scuf.co', 'go.gcash.com', 'engt.co', 'alexa.design', 'ff.im', 'dhk.gg', 'moo.im', 'toi.in', 'gma.abc', 'klmf.ly', 'z23.ru', 'mgnet.me', 'mou.sr', 'purdue.university', 'flic.kr', '2kgam.es', 'yourls.org', 'zc.vg', 'pse.is', 'nus.edu', 'dbricks.co', 'kkday.me', 'srnk.us', 'revr.ec', 'clarobr.co', 'qvc.co', 'deb.li', 'vk.cc', 'mapfan.to', 'cindora.club', 'mgstn.ly', 'wit.to', 'ipgraber.ru', 'pgat.us', 'ckbe.at', '5w.fit', 'urli.ai', 'thls.co', 'ock.cn', 'twiturl.de', 'dive.pub', 'abc7.ws', 'gtly.ink', 'mvmtwatch.co', 'tlrk.it', 'rushtix.co', 'grb.to', 'zln.do', 'u.shxj.pw', 'm.tb.cn', 'kurl.ru', 'cjky.it', 'ja.cat', 'bitly.ws', 'tprk.us', 'pchome.link', 'jp.rog.gg', 'stts.in', 'piee.pw', 'oshko.sh', 'autode.sk', 'suo.im', 'lnk.direct', 'pg3d.app', 'thetim.es', 'chzb.gr', 'ngrid.com', 'nyr.kr', 'ouo.io', 'bnetwhk.com', 'lihi.vip', 'ionos.ly', 'packt.link', 'skl.sh', 'bitly.lc', 'abelinc.me', 'dpmd.ai', 'tinyurl.mobi', 'trib.al', 'shutr.bz', 'myglamm.in', 'abnb.me', 'patm.sg'}\n"
     ]
    }
   ],
   "source": [
    "os.chdir('/opt/Jupyter_Notebooks/QuellR')\n",
    "with open(\"shorteners.txt\", \"r\") as url_shorteners:\n",
    "    #shortners_list = url_shorteners.read().splitlines()\n",
    "    shortners_list = set(line.strip() for line in url_shorteners)\n",
    "url_shorteners.close()\n",
    "print(shortners_list)\n",
    "global domains\n",
    "domains = []"
   ]
  },
  {
   "cell_type": "code",
   "execution_count": 12,
   "id": "0c87ab03",
   "metadata": {},
   "outputs": [],
   "source": [
    "def qr_decode(f):\n",
    "    # qr = read_qr_code(f)\n",
    "    DFRAME = pd.DataFrame(columns=['File_Name', 'URL', 'OTX', 'VirusTotal', 'Shodan'])\n",
    "    f = cv2.imread(f)\n",
    "    detect = cv2.QRCodeDetector()\n",
    "    value, points, straight_qrcode = detect.detectAndDecode(f)\n",
    "    value1 = re.sub(\"http\\:\\/\\/\", \"\", str(value))\n",
    "    value1 = re.sub(\"https\\:\\/\\/\", \"\", str(value1))\n",
    "    value1 = re.sub(\"\\/\\S+\", \"\", str(value1))\n",
    "    value = str(value)\n",
    "    value1 = str(value1)\n",
    "    http = 'http://'\n",
    "    if len(value) > 0:\n",
    "        if http not in value:\n",
    "            value = str(http + value)\n",
    "        if value1 in shortners_list:\n",
    "            unshortener = UnshortenIt()\n",
    "            web_host = unshortener.unshorten(value)\n",
    "            domains.append(web_host)\n",
    "        else:\n",
    "            web_host = value\n",
    "            domains.append(web_host)"
   ]
  },
  {
   "cell_type": "code",
   "execution_count": 13,
   "id": "8ccb33a7",
   "metadata": {},
   "outputs": [
    {
     "name": "stdout",
     "output_type": "stream",
     "text": [
      "['http://https://clt1619013.benchurl.com/c/l?u=101F0E9F&e=16DE7CD&c=18B445&t=0&l=D073B903&email=gFAf53wavi9cBc3s2Zdmevfy4mLLIlr4&seq=1#amFzb24ubHVuZHlAaWNlbWlsbGVyLmNvbQ==', 'http://https://thebesterlor.online/?zmelxmbn&qrc=YXNobGV5LmRhdmlzQGljZW1pbGxlci5jb20=', 'http://https://tehranrenter.com/vidaassss/moreandmore/lasenasss//a2ltYmVybHkuZG95bGVAaWNlbWlsbGVyLmNvbQ==', 'http://https://www.mastercard.com/news/perspectives/featured-topics/our-people/', 'http://https://bing.com/ck/a?!&&p=1e98c9f9a35fbd79JmltdHM9MTY5NjIwNDgwMCZpZ3VpZD0xZTQzNThiOS1jYzA3LTY2MmEtMjQyNi00YjI5Y2QwZTY3MDgmaW5zaWQ9NTAwMw&iTaPPWmbLL&ptn=3&bSolanRaIN&hsh=3&fclid=1e4358b9-cc07-662a-2426-4b29cd0e6708&jeyiVbgKPd&u=a1aHR0cHM6Ly9mcmVlbGFuY2Vyd2FsYS5jb20v#&&yygpKSi20tc3NUwpLC/ILU02NzSyNCpPNTeyrNQzz8/KMSrI1ysq1S+1zC7WBwA=?dGh5cnphLnNrb2ZpZWxkQGljZW1pbGxlci5jb20=', 'https://blackhillsinfosec.us15.list-manage.com/subscribe?u=e12efe2af6573cc76c90fc019&id=00ffa4d3ff']\n",
      "http://https://clt1619013.benchurl.com/c/l?u=101F0E9F&e=16DE7CD&c=18B445&t=0&l=D073B903&email=gFAf53wavi9cBc3s2Zdmevfy4mLLIlr4&seq=1#amFzb24ubHVuZHlAaWNlbWlsbGVyLmNvbQ==\n",
      "http://https://thebesterlor.online/?zmelxmbn&qrc=YXNobGV5LmRhdmlzQGljZW1pbGxlci5jb20=\n",
      "http://https://tehranrenter.com/vidaassss/moreandmore/lasenasss//a2ltYmVybHkuZG95bGVAaWNlbWlsbGVyLmNvbQ==\n",
      "http://https://www.mastercard.com/news/perspectives/featured-topics/our-people/\n",
      "http://https://bing.com/ck/a?!&&p=1e98c9f9a35fbd79JmltdHM9MTY5NjIwNDgwMCZpZ3VpZD0xZTQzNThiOS1jYzA3LTY2MmEtMjQyNi00YjI5Y2QwZTY3MDgmaW5zaWQ9NTAwMw&iTaPPWmbLL&ptn=3&bSolanRaIN&hsh=3&fclid=1e4358b9-cc07-662a-2426-4b29cd0e6708&jeyiVbgKPd&u=a1aHR0cHM6Ly9mcmVlbGFuY2Vyd2FsYS5jb20v#&&yygpKSi20tc3NUwpLC/ILU02NzSyNCpPNTeyrNQzz8/KMSrI1ysq1S+1zC7WBwA=?dGh5cnphLnNrb2ZpZWxkQGljZW1pbGxlci5jb20=\n",
      "https://blackhillsinfosec.us15.list-manage.com/subscribe?u=e12efe2af6573cc76c90fc019&id=00ffa4d3ff\n"
     ]
    }
   ],
   "source": [
    "#directory = input(\"Enter the directory of the QR codes:\")\n",
    "directory = \"/opt/Jupyter_Notebooks/QuellR/QRs\"\n",
    "os.chdir(directory)\n",
    "for filename in os.listdir(directory):\n",
    "    f = os.path.join(directory, filename)\n",
    "    # checking if it is a file\n",
    "    if os.path.isfile(f):\n",
    "        qr_decode(f)\n",
    "for d in domains:\n",
    "    print(d)"
   ]
  },
  {
   "cell_type": "code",
   "execution_count": null,
   "id": "04c744e6",
   "metadata": {},
   "outputs": [],
   "source": []
  },
  {
   "cell_type": "code",
   "execution_count": null,
   "id": "c2b21557",
   "metadata": {},
   "outputs": [],
   "source": []
  },
  {
   "cell_type": "code",
   "execution_count": null,
   "id": "e8a50343",
   "metadata": {},
   "outputs": [],
   "source": []
  },
  {
   "cell_type": "code",
   "execution_count": null,
   "id": "bf74c883",
   "metadata": {},
   "outputs": [],
   "source": []
  }
 ],
 "metadata": {
  "kernelspec": {
   "display_name": "Python 3 (ipykernel)",
   "language": "python",
   "name": "python3"
  },
  "language_info": {
   "codemirror_mode": {
    "name": "ipython",
    "version": 3
   },
   "file_extension": ".py",
   "mimetype": "text/x-python",
   "name": "python",
   "nbconvert_exporter": "python",
   "pygments_lexer": "ipython3",
   "version": "3.8.10"
  }
 },
 "nbformat": 4,
 "nbformat_minor": 5
}
